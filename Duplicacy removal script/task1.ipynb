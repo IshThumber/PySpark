{
 "cells": [
  {
   "cell_type": "code",
   "execution_count": 59,
   "metadata": {},
   "outputs": [],
   "source": [
    "# pip install pandas\n"
   ]
  },
  {
   "cell_type": "code",
   "execution_count": 60,
   "metadata": {},
   "outputs": [],
   "source": [
    "from pyspark.sql import SparkSession\n",
    "\n",
    "from pyspark.sql.types import *\n",
    "\n",
    "spark = SparkSession.builder.appName(\"task1\").getOrCreate()\n"
   ]
  },
  {
   "cell_type": "code",
   "execution_count": 61,
   "metadata": {},
   "outputs": [],
   "source": [
    "task1Schema = StructType([StructField('agmbgm', StringType(), True),\n",
    "                          StructField('business_unit', StringType(), True),\n",
    "                          StructField('dateTime', TimestampType(), True),\n",
    "                          StructField('chargetype', StringType(), True),\n",
    "                          StructField('cluster_cost', BooleanType(), True),\n",
    "                          StructField('cost', DoubleType(), True),\n",
    "                          StructField('cost_location', StringType(), True),\n",
    "                          StructField('currency', StringType(), True),\n",
    "                          StructField('departmentCode', StringType(), True),\n",
    "                          StructField('environment', StringType(), True),\n",
    "                          StructField('exec_owner', StringType(), True),\n",
    "                          StructField('finance_owner', StringType(), True),\n",
    "                          StructField('globally_shared', BooleanType(), True),\n",
    "                          StructField('is_cie_project', BooleanType(), True),\n",
    "                          StructField('meter', StringType(), True),\n",
    "                          StructField('meter_subcategory', StringType(), True),\n",
    "                          StructField('pricingmodel', StringType(), True),\n",
    "                          StructField('product', StringType(), True),\n",
    "                          StructField('product_owner', StringType(), True),\n",
    "                          StructField('project_name', StringType(), True),\n",
    "                          StructField('res_name', StringType(), True),\n",
    "                          StructField('resource_group', StringType(), True),\n",
    "                          StructField('run_date', StringType(), True),\n",
    "                          StructField('service_name', StringType(), True),\n",
    "                          StructField('service_tier', StringType(), True),\n",
    "                          StructField('sleeve', StringType(), True),\n",
    "                          StructField('unique_id', StringType(), True),\n",
    "                          StructField('to_date', IntegerType(), True),\n",
    "                          StructField('to_hour', IntegerType(), True)\n",
    "                          ])\n"
   ]
  },
  {
   "cell_type": "code",
   "execution_count": 69,
   "metadata": {},
   "outputs": [],
   "source": [
    "df1 = spark.read.format(\"csv\").schema(task1Schema).load(\"part-00000.csv\")\n",
    "# df1.show(2)\n",
    "\n",
    "df2 = spark.read.format(\"csv\").schema(task1Schema).load(\"part-00001.csv\")\n",
    "\n",
    "df3 = spark.read.format(\"csv\").schema(task1Schema).load(\"part-00002.csv\")\n",
    "\n",
    "df4 = spark.read.format(\"csv\").schema(task1Schema).load(\"part-00003.csv\")\n"
   ]
  },
  {
   "cell_type": "code",
   "execution_count": 78,
   "metadata": {},
   "outputs": [
    {
     "name": "stdout",
     "output_type": "stream",
     "text": [
      "root\n",
      " |-- agmbgm: string (nullable = true)\n",
      " |-- business_unit: string (nullable = true)\n",
      " |-- dateTime: timestamp (nullable = true)\n",
      " |-- chargetype: string (nullable = true)\n",
      " |-- cluster_cost: boolean (nullable = true)\n",
      " |-- cost: double (nullable = true)\n",
      " |-- cost_location: string (nullable = true)\n",
      " |-- currency: string (nullable = true)\n",
      " |-- departmentCode: string (nullable = true)\n",
      " |-- environment: string (nullable = true)\n",
      " |-- exec_owner: string (nullable = true)\n",
      " |-- finance_owner: string (nullable = true)\n",
      " |-- globally_shared: boolean (nullable = true)\n",
      " |-- is_cie_project: boolean (nullable = true)\n",
      " |-- meter: string (nullable = true)\n",
      " |-- meter_subcategory: string (nullable = true)\n",
      " |-- pricingmodel: string (nullable = true)\n",
      " |-- product: string (nullable = true)\n",
      " |-- product_owner: string (nullable = true)\n",
      " |-- project_name: string (nullable = true)\n",
      " |-- res_name: string (nullable = true)\n",
      " |-- resource_group: string (nullable = true)\n",
      " |-- run_date: string (nullable = true)\n",
      " |-- service_name: string (nullable = true)\n",
      " |-- service_tier: string (nullable = true)\n",
      " |-- sleeve: string (nullable = true)\n",
      " |-- unique_id: string (nullable = true)\n",
      " |-- to_date: integer (nullable = true)\n",
      " |-- to_hour: integer (nullable = true)\n",
      "\n"
     ]
    }
   ],
   "source": [
    "# df = spark.createDataFrame(data=data, schema=schema)\n",
    "df1.printSchema()\n"
   ]
  },
  {
   "cell_type": "code",
   "execution_count": 79,
   "metadata": {},
   "outputs": [
    {
     "name": "stdout",
     "output_type": "stream",
     "text": [
      "root\n",
      " |-- agmbgm: string (nullable = true)\n",
      " |-- business_unit: string (nullable = true)\n",
      " |-- dateTime: timestamp (nullable = true)\n",
      " |-- chargetype: string (nullable = true)\n",
      " |-- cluster_cost: boolean (nullable = true)\n",
      " |-- cost: double (nullable = true)\n",
      " |-- cost_location: string (nullable = true)\n",
      " |-- currency: string (nullable = true)\n",
      " |-- departmentCode: string (nullable = true)\n",
      " |-- environment: string (nullable = true)\n",
      " |-- exec_owner: string (nullable = true)\n",
      " |-- finance_owner: string (nullable = true)\n",
      " |-- globally_shared: boolean (nullable = true)\n",
      " |-- is_cie_project: boolean (nullable = true)\n",
      " |-- meter: string (nullable = true)\n",
      " |-- meter_subcategory: string (nullable = true)\n",
      " |-- pricingmodel: string (nullable = true)\n",
      " |-- product: string (nullable = true)\n",
      " |-- product_owner: string (nullable = true)\n",
      " |-- project_name: string (nullable = true)\n",
      " |-- res_name: string (nullable = true)\n",
      " |-- resource_group: string (nullable = true)\n",
      " |-- run_date: string (nullable = true)\n",
      " |-- service_name: string (nullable = true)\n",
      " |-- service_tier: string (nullable = true)\n",
      " |-- sleeve: string (nullable = true)\n",
      " |-- unique_id: string (nullable = true)\n",
      " |-- to_date: integer (nullable = true)\n",
      " |-- to_hour: integer (nullable = true)\n",
      "\n"
     ]
    }
   ],
   "source": [
    "df2.printSchema()\n"
   ]
  },
  {
   "cell_type": "code",
   "execution_count": 81,
   "metadata": {},
   "outputs": [
    {
     "name": "stdout",
     "output_type": "stream",
     "text": [
      "root\n",
      " |-- agmbgm: string (nullable = true)\n",
      " |-- business_unit: string (nullable = true)\n",
      " |-- dateTime: timestamp (nullable = true)\n",
      " |-- chargetype: string (nullable = true)\n",
      " |-- cluster_cost: boolean (nullable = true)\n",
      " |-- cost: double (nullable = true)\n",
      " |-- cost_location: string (nullable = true)\n",
      " |-- currency: string (nullable = true)\n",
      " |-- departmentCode: string (nullable = true)\n",
      " |-- environment: string (nullable = true)\n",
      " |-- exec_owner: string (nullable = true)\n",
      " |-- finance_owner: string (nullable = true)\n",
      " |-- globally_shared: boolean (nullable = true)\n",
      " |-- is_cie_project: boolean (nullable = true)\n",
      " |-- meter: string (nullable = true)\n",
      " |-- meter_subcategory: string (nullable = true)\n",
      " |-- pricingmodel: string (nullable = true)\n",
      " |-- product: string (nullable = true)\n",
      " |-- product_owner: string (nullable = true)\n",
      " |-- project_name: string (nullable = true)\n",
      " |-- res_name: string (nullable = true)\n",
      " |-- resource_group: string (nullable = true)\n",
      " |-- run_date: string (nullable = true)\n",
      " |-- service_name: string (nullable = true)\n",
      " |-- service_tier: string (nullable = true)\n",
      " |-- sleeve: string (nullable = true)\n",
      " |-- unique_id: string (nullable = true)\n",
      " |-- to_date: integer (nullable = true)\n",
      " |-- to_hour: integer (nullable = true)\n",
      "\n"
     ]
    }
   ],
   "source": [
    "df2.printSchema()\n"
   ]
  },
  {
   "cell_type": "code",
   "execution_count": 80,
   "metadata": {},
   "outputs": [
    {
     "name": "stdout",
     "output_type": "stream",
     "text": [
      "root\n",
      " |-- agmbgm: string (nullable = true)\n",
      " |-- business_unit: string (nullable = true)\n",
      " |-- dateTime: timestamp (nullable = true)\n",
      " |-- chargetype: string (nullable = true)\n",
      " |-- cluster_cost: boolean (nullable = true)\n",
      " |-- cost: double (nullable = true)\n",
      " |-- cost_location: string (nullable = true)\n",
      " |-- currency: string (nullable = true)\n",
      " |-- departmentCode: string (nullable = true)\n",
      " |-- environment: string (nullable = true)\n",
      " |-- exec_owner: string (nullable = true)\n",
      " |-- finance_owner: string (nullable = true)\n",
      " |-- globally_shared: boolean (nullable = true)\n",
      " |-- is_cie_project: boolean (nullable = true)\n",
      " |-- meter: string (nullable = true)\n",
      " |-- meter_subcategory: string (nullable = true)\n",
      " |-- pricingmodel: string (nullable = true)\n",
      " |-- product: string (nullable = true)\n",
      " |-- product_owner: string (nullable = true)\n",
      " |-- project_name: string (nullable = true)\n",
      " |-- res_name: string (nullable = true)\n",
      " |-- resource_group: string (nullable = true)\n",
      " |-- run_date: string (nullable = true)\n",
      " |-- service_name: string (nullable = true)\n",
      " |-- service_tier: string (nullable = true)\n",
      " |-- sleeve: string (nullable = true)\n",
      " |-- unique_id: string (nullable = true)\n",
      " |-- to_date: integer (nullable = true)\n",
      " |-- to_hour: integer (nullable = true)\n",
      "\n"
     ]
    }
   ],
   "source": [
    "df4.printSchema()\n"
   ]
  },
  {
   "cell_type": "code",
   "execution_count": 85,
   "metadata": {},
   "outputs": [
    {
     "name": "stdout",
     "output_type": "stream",
     "text": [
      "+---------+\n",
      "|unique_id|\n",
      "+---------+\n",
      "|444277942|\n",
      "|444277943|\n",
      "|444277944|\n",
      "|444277945|\n",
      "|444277946|\n",
      "|444277947|\n",
      "|444277948|\n",
      "|444277949|\n",
      "|444277950|\n",
      "|444277951|\n",
      "|444277952|\n",
      "|444277953|\n",
      "|444277954|\n",
      "|444277955|\n",
      "|444277956|\n",
      "|444277957|\n",
      "|444277958|\n",
      "|444277959|\n",
      "|444277960|\n",
      "|444277961|\n",
      "+---------+\n",
      "only showing top 20 rows\n",
      "\n",
      "+---------+\n",
      "|unique_id|\n",
      "+---------+\n",
      "|444279737|\n",
      "|444279738|\n",
      "|444279739|\n",
      "|444279740|\n",
      "|444279741|\n",
      "|444279742|\n",
      "|444279743|\n",
      "|444279744|\n",
      "|444279745|\n",
      "|444279746|\n",
      "|444279747|\n",
      "|444279748|\n",
      "|444279749|\n",
      "|444279750|\n",
      "|444279751|\n",
      "|444279752|\n",
      "|444279753|\n",
      "|444279754|\n",
      "|444279755|\n",
      "|444279756|\n",
      "+---------+\n",
      "only showing top 20 rows\n",
      "\n",
      "+---------+\n",
      "|unique_id|\n",
      "+---------+\n",
      "|444505799|\n",
      "|444505800|\n",
      "|444505801|\n",
      "|444505802|\n",
      "|444505803|\n",
      "|444505804|\n",
      "|444505806|\n",
      "|444505929|\n",
      "|444505931|\n",
      "|444505932|\n",
      "|444505933|\n",
      "|444505934|\n",
      "|444505935|\n",
      "|444505936|\n",
      "|444505937|\n",
      "|444505938|\n",
      "|444505939|\n",
      "|444505940|\n",
      "|444505941|\n",
      "|444505942|\n",
      "+---------+\n",
      "only showing top 20 rows\n",
      "\n",
      "+---------+\n",
      "|unique_id|\n",
      "+---------+\n",
      "|444507119|\n",
      "|444507120|\n",
      "|444507121|\n",
      "|444507122|\n",
      "|444507123|\n",
      "|444507124|\n",
      "|444507125|\n",
      "|444507126|\n",
      "|444507127|\n",
      "|444507128|\n",
      "|444507129|\n",
      "|444507130|\n",
      "|444507132|\n",
      "|444507133|\n",
      "|444507134|\n",
      "|444507135|\n",
      "|444507136|\n",
      "|444507137|\n",
      "|444507138|\n",
      "|444507139|\n",
      "+---------+\n",
      "only showing top 20 rows\n",
      "\n"
     ]
    }
   ],
   "source": [
    "df1.select(\"unique_id\").show()\n",
    "\n",
    "df2.select(\"unique_id\").show()\n",
    "\n",
    "df3.select(\"unique_id\").show()\n",
    "\n",
    "df4.select(\"unique_id\").show()\n"
   ]
  },
  {
   "cell_type": "code",
   "execution_count": 71,
   "metadata": {},
   "outputs": [],
   "source": [
    "dropD1 = df1.dropDuplicates([\"unique_id\"])\n",
    "\n",
    "dropD2 = df2.dropDuplicates([\"unique_id\"])\n",
    "\n",
    "dropD3 = df3.dropDuplicates([\"unique_id\"])\n",
    "\n",
    "dropD4 = df4.dropDuplicates([\"unique_id\"])\n"
   ]
  },
  {
   "cell_type": "code",
   "execution_count": 73,
   "metadata": {},
   "outputs": [
    {
     "data": {
      "text/plain": [
       "50596"
      ]
     },
     "execution_count": 73,
     "metadata": {},
     "output_type": "execute_result"
    }
   ],
   "source": [
    "dropD1.count()\n"
   ]
  },
  {
   "cell_type": "code",
   "execution_count": 75,
   "metadata": {},
   "outputs": [
    {
     "data": {
      "text/plain": [
       "30024"
      ]
     },
     "execution_count": 75,
     "metadata": {},
     "output_type": "execute_result"
    }
   ],
   "source": [
    "dropD2.count()\n"
   ]
  },
  {
   "cell_type": "code",
   "execution_count": 76,
   "metadata": {},
   "outputs": [
    {
     "data": {
      "text/plain": [
       "12777"
      ]
     },
     "execution_count": 76,
     "metadata": {},
     "output_type": "execute_result"
    }
   ],
   "source": [
    "dropD3.count()\n"
   ]
  },
  {
   "cell_type": "code",
   "execution_count": 77,
   "metadata": {},
   "outputs": [
    {
     "data": {
      "text/plain": [
       "5904"
      ]
     },
     "execution_count": 77,
     "metadata": {},
     "output_type": "execute_result"
    }
   ],
   "source": [
    "dropD4.count()\n"
   ]
  },
  {
   "cell_type": "code",
   "execution_count": 84,
   "metadata": {},
   "outputs": [
    {
     "data": {
      "text/plain": [
       "99301"
      ]
     },
     "execution_count": 84,
     "metadata": {},
     "output_type": "execute_result"
    }
   ],
   "source": [
    "dropD1.count() + dropD2.count() + dropD3.count() + dropD4.count()\n",
    "\n"
   ]
  }
 ],
 "metadata": {
  "kernelspec": {
   "display_name": "Python 3.9.13 64-bit (windows store)",
   "language": "python",
   "name": "python3"
  },
  "language_info": {
   "codemirror_mode": {
    "name": "ipython",
    "version": 3
   },
   "file_extension": ".py",
   "mimetype": "text/x-python",
   "name": "python",
   "nbconvert_exporter": "python",
   "pygments_lexer": "ipython3",
   "version": "3.9.13"
  },
  "orig_nbformat": 4,
  "vscode": {
   "interpreter": {
    "hash": "d1334ab83bffc6422d9c0d3e8da749488e3fe63431a40749433c1323d1ca63b3"
   }
  }
 },
 "nbformat": 4,
 "nbformat_minor": 2
}
