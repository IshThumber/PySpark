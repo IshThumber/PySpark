{
 "cells": [
  {
   "cell_type": "code",
   "execution_count": 87,
   "metadata": {},
   "outputs": [],
   "source": [
    "from pyspark.sql import SparkSession\n",
    "\n",
    "spark = SparkSession.builder.appName(\"Handlings\").getOrCreate()"
   ]
  },
  {
   "cell_type": "code",
   "execution_count": 88,
   "metadata": {},
   "outputs": [
    {
     "name": "stdout",
     "output_type": "stream",
     "text": [
      "+----+----+----------+------+\n",
      "|Name| Age|Experience|Salary|\n",
      "+----+----+----------+------+\n",
      "|   a|  12|         2| 10000|\n",
      "|   b|  13|         4| 30000|\n",
      "|   c|  14|         2|  4000|\n",
      "|   d|  15|         6| 50000|\n",
      "|   e|  21|      null| 14000|\n",
      "|   f|  34|         8|  null|\n",
      "|null|  32|         1|  2400|\n",
      "|null|null|         5| 13000|\n",
      "|   i|null|      null|  null|\n",
      "|null|   2|      null|  3400|\n",
      "+----+----+----------+------+\n",
      "\n"
     ]
    }
   ],
   "source": [
    "df_pyspark=spark.read.csv(\"test2.csv\", header=True, inferSchema=True)\n",
    "\n",
    "df_pyspark.show()"
   ]
  },
  {
   "cell_type": "code",
   "execution_count": 89,
   "metadata": {},
   "outputs": [
    {
     "name": "stdout",
     "output_type": "stream",
     "text": [
      "+----+----+----------+\n",
      "|Name| Age|Experience|\n",
      "+----+----+----------+\n",
      "|   a|  12|         2|\n",
      "|   b|  13|         4|\n",
      "|   c|  14|         2|\n",
      "|   d|  15|         6|\n",
      "|   e|  21|      null|\n",
      "|   f|  34|         8|\n",
      "|null|  32|         1|\n",
      "|null|null|         5|\n",
      "|   i|null|      null|\n",
      "|null|   2|      null|\n",
      "+----+----+----------+\n",
      "\n"
     ]
    }
   ],
   "source": [
    "# Drop column\n",
    "\n",
    "df_pyspark.drop(\"salary\").show()"
   ]
  },
  {
   "cell_type": "code",
   "execution_count": 90,
   "metadata": {},
   "outputs": [
    {
     "name": "stdout",
     "output_type": "stream",
     "text": [
      "+----+----+----------+------+\n",
      "|Name| Age|Experience|Salary|\n",
      "+----+----+----------+------+\n",
      "|   a|  12|         2| 10000|\n",
      "|   b|  13|         4| 30000|\n",
      "|   c|  14|         2|  4000|\n",
      "|   d|  15|         6| 50000|\n",
      "|   e|  21|      null| 14000|\n",
      "|   f|  34|         8|  null|\n",
      "|null|  32|         1|  2400|\n",
      "|null|null|         5| 13000|\n",
      "|   i|null|      null|  null|\n",
      "|null|   2|      null|  3400|\n",
      "+----+----+----------+------+\n",
      "\n"
     ]
    }
   ],
   "source": [
    "df_pyspark.show()"
   ]
  },
  {
   "cell_type": "code",
   "execution_count": 91,
   "metadata": {},
   "outputs": [
    {
     "name": "stdout",
     "output_type": "stream",
     "text": [
      "+----+---+----------+------+\n",
      "|Name|Age|Experience|Salary|\n",
      "+----+---+----------+------+\n",
      "|   a| 12|         2| 10000|\n",
      "|   b| 13|         4| 30000|\n",
      "|   c| 14|         2|  4000|\n",
      "|   d| 15|         6| 50000|\n",
      "+----+---+----------+------+\n",
      "\n"
     ]
    }
   ],
   "source": [
    "# Rows\n",
    "\n",
    "df_pyspark.na.drop().show()"
   ]
  },
  {
   "cell_type": "code",
   "execution_count": 92,
   "metadata": {},
   "outputs": [
    {
     "name": "stdout",
     "output_type": "stream",
     "text": [
      "+----+---+----------+------+\n",
      "|Name|Age|Experience|Salary|\n",
      "+----+---+----------+------+\n",
      "|   a| 12|         2| 10000|\n",
      "|   b| 13|         4| 30000|\n",
      "|   c| 14|         2|  4000|\n",
      "|   d| 15|         6| 50000|\n",
      "+----+---+----------+------+\n",
      "\n"
     ]
    }
   ],
   "source": [
    "df_pyspark.na.drop(how=\"any\").show()\n",
    "\n",
    "# how = \"all\" will drop all null values"
   ]
  },
  {
   "cell_type": "code",
   "execution_count": 93,
   "metadata": {},
   "outputs": [
    {
     "name": "stdout",
     "output_type": "stream",
     "text": [
      "+----+----+----------+------+\n",
      "|Name| Age|Experience|Salary|\n",
      "+----+----+----------+------+\n",
      "|   a|  12|         2| 10000|\n",
      "|   b|  13|         4| 30000|\n",
      "|   c|  14|         2|  4000|\n",
      "|   d|  15|         6| 50000|\n",
      "|   e|  21|      null| 14000|\n",
      "|   f|  34|         8|  null|\n",
      "|null|  32|         1|  2400|\n",
      "|null|null|         5| 13000|\n",
      "|null|   2|      null|  3400|\n",
      "+----+----+----------+------+\n",
      "\n",
      "+----+---+----------+------+\n",
      "|Name|Age|Experience|Salary|\n",
      "+----+---+----------+------+\n",
      "|   a| 12|         2| 10000|\n",
      "|   b| 13|         4| 30000|\n",
      "|   c| 14|         2|  4000|\n",
      "|   d| 15|         6| 50000|\n",
      "|   e| 21|      null| 14000|\n",
      "|   f| 34|         8|  null|\n",
      "|null| 32|         1|  2400|\n",
      "+----+---+----------+------+\n",
      "\n"
     ]
    }
   ],
   "source": [
    "df_pyspark.na.drop(how=\"any\",thresh=2).show()\n",
    "df_pyspark.na.drop(how=\"any\",thresh=3).show()\n",
    "# df_pyspark.na.drop(how=\"any\",thresh=1).show()\n",
    "\n",
    "# means if thresh is 2 then it means atleast 2 non null values are there in the column\n",
    "# if thresh is 3 then it means atleast 3 non null values are there in the column"
   ]
  },
  {
   "cell_type": "code",
   "execution_count": 94,
   "metadata": {},
   "outputs": [
    {
     "name": "stdout",
     "output_type": "stream",
     "text": [
      "+----+----+----------+------+\n",
      "|Name| Age|Experience|Salary|\n",
      "+----+----+----------+------+\n",
      "|   a|  12|         2| 10000|\n",
      "|   b|  13|         4| 30000|\n",
      "|   c|  14|         2|  4000|\n",
      "|   d|  15|         6| 50000|\n",
      "|   f|  34|         8|  null|\n",
      "|null|  32|         1|  2400|\n",
      "|null|null|         5| 13000|\n",
      "+----+----+----------+------+\n",
      "\n"
     ]
    }
   ],
   "source": [
    "df_pyspark.na.drop(how=\"any\",subset=[\"experience\"]).show()\n"
   ]
  },
  {
   "cell_type": "code",
   "execution_count": 95,
   "metadata": {},
   "outputs": [
    {
     "name": "stdout",
     "output_type": "stream",
     "text": [
      "+----+---+----------+------+\n",
      "|Name|Age|Experience|Salary|\n",
      "+----+---+----------+------+\n",
      "|   a| 12|         2| 10000|\n",
      "|   b| 13|         4| 30000|\n",
      "|   c| 14|         2|  4000|\n",
      "|   d| 15|         6| 50000|\n",
      "|   e| 21|      null| 14000|\n",
      "|   f| 34|         8|  null|\n",
      "|null| 32|         1|  2400|\n",
      "|null|  0|         5| 13000|\n",
      "|   i|  0|      null|  null|\n",
      "|null|  2|      null|  3400|\n",
      "+----+---+----------+------+\n",
      "\n"
     ]
    }
   ],
   "source": [
    "# Filling the missing values\n",
    "\n",
    "df_pyspark.na.fill(0, ['age']).show()"
   ]
  },
  {
   "cell_type": "code",
   "execution_count": 97,
   "metadata": {},
   "outputs": [
    {
     "name": "stdout",
     "output_type": "stream",
     "text": [
      "+----+----+----------+------+\n",
      "|Name| Age|Experience|Salary|\n",
      "+----+----+----------+------+\n",
      "|   a|  12|         2| 10000|\n",
      "|   b|  13|         4| 30000|\n",
      "|   c|  14|         2|  4000|\n",
      "|   d|  15|         6| 50000|\n",
      "|   e|  21|      null| 14000|\n",
      "|   f|  34|         8|  null|\n",
      "|null|  32|         1|  2400|\n",
      "|null|null|         5| 13000|\n",
      "|   i|null|      null|  null|\n",
      "|null|   2|      null|  3400|\n",
      "+----+----+----------+------+\n",
      "\n"
     ]
    }
   ],
   "source": [
    "df_pyspark.show()"
   ]
  },
  {
   "cell_type": "code",
   "execution_count": 104,
   "metadata": {},
   "outputs": [],
   "source": [
    "from pyspark.ml.feature import Imputer\n",
    "\n",
    "imputer = Imputer(\n",
    "    inputCols=['Age', 'Experience', 'Salary'],\n",
    "    outputCols=[\"{}_im\".format(col) for col in ['age', 'experience', 'salary']]).setStrategy(\"mean\")\n"
   ]
  },
  {
   "cell_type": "code",
   "execution_count": 105,
   "metadata": {},
   "outputs": [
    {
     "name": "stdout",
     "output_type": "stream",
     "text": [
      "+----+----+----------+------+------+-------------+---------+\n",
      "|Name| Age|Experience|Salary|age_im|experience_im|salary_im|\n",
      "+----+----+----------+------+------+-------------+---------+\n",
      "|   a|  12|         2| 10000|    12|            2|    10000|\n",
      "|   b|  13|         4| 30000|    13|            4|    30000|\n",
      "|   c|  14|         2|  4000|    14|            2|     4000|\n",
      "|   d|  15|         6| 50000|    15|            6|    50000|\n",
      "|   e|  21|      null| 14000|    21|            4|    14000|\n",
      "|   f|  34|         8|  null|    34|            8|    15850|\n",
      "|null|  32|         1|  2400|    32|            1|     2400|\n",
      "|null|null|         5| 13000|    17|            5|    13000|\n",
      "|   i|null|      null|  null|    17|            4|    15850|\n",
      "|null|   2|      null|  3400|     2|            4|     3400|\n",
      "+----+----+----------+------+------+-------------+---------+\n",
      "\n"
     ]
    }
   ],
   "source": [
    "imputer.fit(df_pyspark).transform(df_pyspark).show()"
   ]
  },
  {
   "cell_type": "code",
   "execution_count": null,
   "metadata": {},
   "outputs": [],
   "source": []
  }
 ],
 "metadata": {
  "interpreter": {
   "hash": "b479e50572fd4ef80cb647eca6664c2b4cc5bdfcd0e7bbdaa29199c139c6e9de"
  },
  "kernelspec": {
   "display_name": "Python 3.10.3 ('pysparkk': venv)",
   "language": "python",
   "name": "python3"
  },
  "language_info": {
   "codemirror_mode": {
    "name": "ipython",
    "version": 3
   },
   "file_extension": ".py",
   "mimetype": "text/x-python",
   "name": "python",
   "nbconvert_exporter": "python",
   "pygments_lexer": "ipython3",
   "version": "3.10.3"
  },
  "orig_nbformat": 4
 },
 "nbformat": 4,
 "nbformat_minor": 2
}
