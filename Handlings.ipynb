{
 "cells": [
  {
   "cell_type": "code",
   "execution_count": 2,
   "metadata": {},
   "outputs": [],
   "source": [
    "from pyspark.sql import SparkSession\n",
    "\n",
    "spark = SparkSession.builder.appName(\"Handlings\").getOrCreate()"
   ]
  },
  {
   "cell_type": "code",
   "execution_count": 5,
   "metadata": {},
   "outputs": [
    {
     "name": "stdout",
     "output_type": "stream",
     "text": [
      "+----+----+----------+------+\n",
      "|Name| Age|Experience|Salary|\n",
      "+----+----+----------+------+\n",
      "|   a|  12|         2| 10000|\n",
      "|   b|  13|         4| 30000|\n",
      "|   c|  14|         2|  4000|\n",
      "|   d|  15|         6| 50000|\n",
      "|   e|  21|         3| 14000|\n",
      "|   f|  34|         8| 24000|\n",
      "|null|  32|         1|  2400|\n",
      "|null|null|         5| 13000|\n",
      "+----+----+----------+------+\n",
      "\n"
     ]
    }
   ],
   "source": [
    "df_pyspark=spark.read.csv(\"test2.csv\", header=True, inferSchema=True)\n",
    "\n",
    "df_pyspark.show()"
   ]
  },
  {
   "cell_type": "code",
   "execution_count": 8,
   "metadata": {},
   "outputs": [
    {
     "name": "stdout",
     "output_type": "stream",
     "text": [
      "+----+----+----------+\n",
      "|Name| Age|Experience|\n",
      "+----+----+----------+\n",
      "|   a|  12|         2|\n",
      "|   b|  13|         4|\n",
      "|   c|  14|         2|\n",
      "|   d|  15|         6|\n",
      "|   e|  21|         3|\n",
      "|   f|  34|         8|\n",
      "|null|  32|         1|\n",
      "|null|null|         5|\n",
      "+----+----+----------+\n",
      "\n"
     ]
    }
   ],
   "source": [
    "# Drop column\n",
    "\n",
    "df_pyspark.drop(\"salary\").show()"
   ]
  },
  {
   "cell_type": "code",
   "execution_count": 9,
   "metadata": {},
   "outputs": [
    {
     "name": "stdout",
     "output_type": "stream",
     "text": [
      "+----+----+----------+------+\n",
      "|Name| Age|Experience|Salary|\n",
      "+----+----+----------+------+\n",
      "|   a|  12|         2| 10000|\n",
      "|   b|  13|         4| 30000|\n",
      "|   c|  14|         2|  4000|\n",
      "|   d|  15|         6| 50000|\n",
      "|   e|  21|         3| 14000|\n",
      "|   f|  34|         8| 24000|\n",
      "|null|  32|         1|  2400|\n",
      "|null|null|         5| 13000|\n",
      "+----+----+----------+------+\n",
      "\n"
     ]
    }
   ],
   "source": [
    "df_pyspark.show()"
   ]
  },
  {
   "cell_type": "code",
   "execution_count": 10,
   "metadata": {},
   "outputs": [
    {
     "name": "stdout",
     "output_type": "stream",
     "text": [
      "+----+---+----------+------+\n",
      "|Name|Age|Experience|Salary|\n",
      "+----+---+----------+------+\n",
      "|   a| 12|         2| 10000|\n",
      "|   b| 13|         4| 30000|\n",
      "|   c| 14|         2|  4000|\n",
      "|   d| 15|         6| 50000|\n",
      "|   e| 21|         3| 14000|\n",
      "|   f| 34|         8| 24000|\n",
      "+----+---+----------+------+\n",
      "\n"
     ]
    }
   ],
   "source": [
    "# Rows\n",
    "\n",
    "df_pyspark.na.drop().show()"
   ]
  },
  {
   "cell_type": "code",
   "execution_count": 11,
   "metadata": {},
   "outputs": [
    {
     "name": "stdout",
     "output_type": "stream",
     "text": [
      "+----+---+----------+------+\n",
      "|Name|Age|Experience|Salary|\n",
      "+----+---+----------+------+\n",
      "|   a| 12|         2| 10000|\n",
      "|   b| 13|         4| 30000|\n",
      "|   c| 14|         2|  4000|\n",
      "|   d| 15|         6| 50000|\n",
      "|   e| 21|         3| 14000|\n",
      "|   f| 34|         8| 24000|\n",
      "+----+---+----------+------+\n",
      "\n"
     ]
    }
   ],
   "source": [
    "df_pyspark.na.drop(how=\"any\").show()"
   ]
  },
  {
   "cell_type": "code",
   "execution_count": 17,
   "metadata": {},
   "outputs": [
    {
     "name": "stdout",
     "output_type": "stream",
     "text": [
      "+----+----+----------+------+\n",
      "|Name| Age|Experience|Salary|\n",
      "+----+----+----------+------+\n",
      "|   a|  12|         2| 10000|\n",
      "|   b|  13|         4| 30000|\n",
      "|   c|  14|         2|  4000|\n",
      "|   d|  15|         6| 50000|\n",
      "|   e|  21|         3| 14000|\n",
      "|   f|  34|         8| 24000|\n",
      "|null|  32|         1|  2400|\n",
      "|null|null|         5| 13000|\n",
      "+----+----+----------+------+\n",
      "\n",
      "+----+---+----------+------+\n",
      "|Name|Age|Experience|Salary|\n",
      "+----+---+----------+------+\n",
      "|   a| 12|         2| 10000|\n",
      "|   b| 13|         4| 30000|\n",
      "|   c| 14|         2|  4000|\n",
      "|   d| 15|         6| 50000|\n",
      "|   e| 21|         3| 14000|\n",
      "|   f| 34|         8| 24000|\n",
      "|null| 32|         1|  2400|\n",
      "+----+---+----------+------+\n",
      "\n"
     ]
    }
   ],
   "source": [
    "df_pyspark.na.drop(how=\"all\",thresh=2).show()\n",
    "df_pyspark.na.drop(how=\"all\",thresh=3).show()"
   ]
  },
  {
   "cell_type": "code",
   "execution_count": null,
   "metadata": {},
   "outputs": [],
   "source": []
  },
  {
   "cell_type": "code",
   "execution_count": null,
   "metadata": {},
   "outputs": [],
   "source": []
  },
  {
   "cell_type": "code",
   "execution_count": null,
   "metadata": {},
   "outputs": [],
   "source": []
  },
  {
   "cell_type": "code",
   "execution_count": null,
   "metadata": {},
   "outputs": [],
   "source": []
  },
  {
   "cell_type": "code",
   "execution_count": null,
   "metadata": {},
   "outputs": [],
   "source": []
  },
  {
   "cell_type": "code",
   "execution_count": null,
   "metadata": {},
   "outputs": [],
   "source": []
  }
 ],
 "metadata": {
  "interpreter": {
   "hash": "b479e50572fd4ef80cb647eca6664c2b4cc5bdfcd0e7bbdaa29199c139c6e9de"
  },
  "kernelspec": {
   "display_name": "Python 3.10.3 ('pysparkk': venv)",
   "language": "python",
   "name": "python3"
  },
  "language_info": {
   "codemirror_mode": {
    "name": "ipython",
    "version": 3
   },
   "file_extension": ".py",
   "mimetype": "text/x-python",
   "name": "python",
   "nbconvert_exporter": "python",
   "pygments_lexer": "ipython3",
   "version": "3.10.3"
  },
  "orig_nbformat": 4
 },
 "nbformat": 4,
 "nbformat_minor": 2
}
