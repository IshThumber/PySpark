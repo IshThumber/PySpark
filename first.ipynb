{
 "cells": [
  {
   "cell_type": "code",
   "execution_count": 24,
   "metadata": {},
   "outputs": [
    {
     "name": "stdout",
     "output_type": "stream",
     "text": [
      "Requirement already satisfied: pyspark in e:\\..projectssss\\python\\pyspark\\pysparkk\\lib\\site-packages (3.2.1)\n",
      "Requirement already satisfied: py4j==0.10.9.3 in e:\\..projectssss\\python\\pyspark\\pysparkk\\lib\\site-packages (from pyspark) (0.10.9.3)\n"
     ]
    },
    {
     "name": "stderr",
     "output_type": "stream",
     "text": [
      "WARNING: You are using pip version 22.0.4; however, version 22.1.2 is available.\n",
      "You should consider upgrading via the 'E:\\..Projectssss\\Python\\pySpark\\pysparkk\\Scripts\\python.exe -m pip install --upgrade pip' command.\n"
     ]
    }
   ],
   "source": [
    "!pip install pyspark"
   ]
  },
  {
   "cell_type": "code",
   "execution_count": 23,
   "metadata": {},
   "outputs": [],
   "source": [
    "from pyspark.sql import SparkSession\n",
    "\n",
    "spark = SparkSession.builder.appName(\"Dataframe\").getOrCreate()"
   ]
  },
  {
   "cell_type": "code",
   "execution_count": 13,
   "metadata": {},
   "outputs": [
    {
     "data": {
      "text/html": [
       "\n",
       "            <div>\n",
       "                <p><b>SparkSession - in-memory</b></p>\n",
       "                \n",
       "        <div>\n",
       "            <p><b>SparkContext</b></p>\n",
       "\n",
       "            <p><a href=\"http://Asus-Vivobook:4040\">Spark UI</a></p>\n",
       "\n",
       "            <dl>\n",
       "              <dt>Version</dt>\n",
       "                <dd><code>v3.2.1</code></dd>\n",
       "              <dt>Master</dt>\n",
       "                <dd><code>local[*]</code></dd>\n",
       "              <dt>AppName</dt>\n",
       "                <dd><code>Dataframe</code></dd>\n",
       "            </dl>\n",
       "        </div>\n",
       "        \n",
       "            </div>\n",
       "        "
      ],
      "text/plain": [
       "<pyspark.sql.session.SparkSession at 0x24f3d1ba9e0>"
      ]
     },
     "execution_count": 13,
     "metadata": {},
     "output_type": "execute_result"
    }
   ],
   "source": [
    "spark"
   ]
  },
  {
   "cell_type": "code",
   "execution_count": 14,
   "metadata": {},
   "outputs": [],
   "source": [
    "# read the dataset\n",
    "spark.read.option(\"header\", \"true\").csv(\"test1.csv\")\n",
    "df_pyspark = spark.read.option(\"header\", \"true\").csv(\"test1.csv\")\n"
   ]
  },
  {
   "cell_type": "code",
   "execution_count": 15,
   "metadata": {},
   "outputs": [
    {
     "name": "stdout",
     "output_type": "stream",
     "text": [
      "root\n",
      " |-- Name: string (nullable = true)\n",
      " |-- age: string (nullable = true)\n",
      " |-- experience: string (nullable = true)\n",
      "\n"
     ]
    },
    {
     "data": {
      "text/plain": [
       "pyspark.sql.dataframe.DataFrame"
      ]
     },
     "execution_count": 15,
     "metadata": {},
     "output_type": "execute_result"
    }
   ],
   "source": [
    "# Check the schema of the dataframe\n",
    "df_pyspark.printSchema()  \n",
    "\n",
    "type(df_pyspark)"
   ]
  },
  {
   "cell_type": "code",
   "execution_count": 16,
   "metadata": {},
   "outputs": [
    {
     "data": {
      "text/plain": [
       "[Row(Name='Me', age='32', experience='2'),\n",
       " Row(Name='You', age='34', experience='1')]"
      ]
     },
     "execution_count": 16,
     "metadata": {},
     "output_type": "execute_result"
    }
   ],
   "source": [
    "# df_pyspark.columns\n",
    "\n",
    "df_pyspark.head(2)\n"
   ]
  },
  {
   "cell_type": "code",
   "execution_count": 17,
   "metadata": {},
   "outputs": [
    {
     "name": "stdout",
     "output_type": "stream",
     "text": [
      "+----+----------+\n",
      "|name|experience|\n",
      "+----+----------+\n",
      "|  Me|         2|\n",
      "| You|         1|\n",
      "|  He|         3|\n",
      "| She|         5|\n",
      "+----+----------+\n",
      "\n"
     ]
    }
   ],
   "source": [
    "# df_pyspark.show()\n",
    "\n",
    "df_pyspark.select(\"name\")\n",
    "df_pyspark.select([\"name\", \"experience\"]).show()"
   ]
  },
  {
   "cell_type": "code",
   "execution_count": 18,
   "metadata": {},
   "outputs": [
    {
     "data": {
      "text/plain": [
       "[('Name', 'string'), ('age', 'string'), ('experience', 'string')]"
      ]
     },
     "execution_count": 18,
     "metadata": {},
     "output_type": "execute_result"
    }
   ],
   "source": [
    "df_pyspark.dtypes"
   ]
  },
  {
   "cell_type": "code",
   "execution_count": 19,
   "metadata": {},
   "outputs": [
    {
     "name": "stdout",
     "output_type": "stream",
     "text": [
      "+-------+----+------------------+-----------------+\n",
      "|summary|Name|               age|       experience|\n",
      "+-------+----+------------------+-----------------+\n",
      "|  count|   4|                 4|                4|\n",
      "|   mean|null|              35.5|             2.75|\n",
      "| stddev|null|13.403979508588733|1.707825127659933|\n",
      "|    min|  He|                22|                1|\n",
      "|    max| You|                54|                5|\n",
      "+-------+----+------------------+-----------------+\n",
      "\n"
     ]
    }
   ],
   "source": [
    "df_pyspark.describe().show()"
   ]
  },
  {
   "cell_type": "code",
   "execution_count": 20,
   "metadata": {},
   "outputs": [
    {
     "name": "stdout",
     "output_type": "stream",
     "text": [
      "+----+---+----------+-------------------+\n",
      "|Name|age|experience|experience_in_years|\n",
      "+----+---+----------+-------------------+\n",
      "|  Me| 32|         2|                4.0|\n",
      "| You| 34|         1|                3.0|\n",
      "|  He| 22|         3|                5.0|\n",
      "| She| 54|         5|                7.0|\n",
      "+----+---+----------+-------------------+\n",
      "\n"
     ]
    }
   ],
   "source": [
    "# Adding Columns\n",
    "\n",
    "df_pyspark.withColumn(\"experience_in_years\",\n",
    "                      df_pyspark['experience'] + 2).show()\n"
   ]
  },
  {
   "cell_type": "code",
   "execution_count": 21,
   "metadata": {},
   "outputs": [
    {
     "name": "stdout",
     "output_type": "stream",
     "text": [
      "+----+---+----------+\n",
      "|Name|age|experience|\n",
      "+----+---+----------+\n",
      "|  Me| 32|         2|\n",
      "| You| 34|         1|\n",
      "|  He| 22|         3|\n",
      "| She| 54|         5|\n",
      "+----+---+----------+\n",
      "\n"
     ]
    }
   ],
   "source": [
    "# Dropping the Columns\n",
    "\n",
    "df_pyspark.drop(\"experience_in_years\").show()"
   ]
  },
  {
   "cell_type": "code",
   "execution_count": 22,
   "metadata": {},
   "outputs": [
    {
     "name": "stdout",
     "output_type": "stream",
     "text": [
      "+-------------+---+----------+\n",
      "|employee_name|age|experience|\n",
      "+-------------+---+----------+\n",
      "|           Me| 32|         2|\n",
      "|          You| 34|         1|\n",
      "|           He| 22|         3|\n",
      "|          She| 54|         5|\n",
      "+-------------+---+----------+\n",
      "\n"
     ]
    }
   ],
   "source": [
    "# Rename Columns\n",
    "\n",
    "df_pyspark.withColumnRenamed(\"name\", \"employee_name\").show()"
   ]
  }
 ],
 "metadata": {
  "interpreter": {
   "hash": "b479e50572fd4ef80cb647eca6664c2b4cc5bdfcd0e7bbdaa29199c139c6e9de"
  },
  "kernelspec": {
   "display_name": "Python 3.10.3 ('pysparkk': venv)",
   "language": "python",
   "name": "python3"
  },
  "language_info": {
   "codemirror_mode": {
    "name": "ipython",
    "version": 3
   },
   "file_extension": ".py",
   "mimetype": "text/x-python",
   "name": "python",
   "nbconvert_exporter": "python",
   "pygments_lexer": "ipython3",
   "version": "3.10.3"
  },
  "orig_nbformat": 4
 },
 "nbformat": 4,
 "nbformat_minor": 2
}
